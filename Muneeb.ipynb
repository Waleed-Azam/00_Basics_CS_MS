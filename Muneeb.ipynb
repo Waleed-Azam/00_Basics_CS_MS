{
  "nbformat": 4,
  "nbformat_minor": 0,
  "metadata": {
    "colab": {
      "provenance": [],
      "authorship_tag": "ABX9TyPH7AVKVgd5Ua+GtT4XvL3n",
      "include_colab_link": true
    },
    "kernelspec": {
      "name": "python3",
      "display_name": "Python 3"
    },
    "language_info": {
      "name": "python"
    }
  },
  "cells": [
    {
      "cell_type": "markdown",
      "metadata": {
        "id": "view-in-github",
        "colab_type": "text"
      },
      "source": [
        "<a href=\"https://colab.research.google.com/github/Waleed-Azam/00_Basics_CS_MS/blob/master/Muneeb.ipynb\" target=\"_parent\"><img src=\"https://colab.research.google.com/assets/colab-badge.svg\" alt=\"Open In Colab\"/></a>"
      ]
    },
    {
      "cell_type": "markdown",
      "source": [
        "# This is method, we wrote a method"
      ],
      "metadata": {
        "id": "d9CYJ6fjPhkS"
      }
    },
    {
      "cell_type": "code",
      "execution_count": 7,
      "metadata": {
        "id": "BunnCKBPNG8h"
      },
      "outputs": [],
      "source": [
        "def find_maximum(num1, num2, num3):\n",
        "    return max(num1, num2, num3)"
      ]
    },
    {
      "cell_type": "markdown",
      "source": [
        "Now i will do make new variable and give it a value"
      ],
      "metadata": {
        "id": "SfYAWq4UPvxu"
      }
    },
    {
      "cell_type": "code",
      "source": [
        "num1 = 15"
      ],
      "metadata": {
        "id": "vyeKLaaYO3_T"
      },
      "execution_count": 8,
      "outputs": []
    },
    {
      "cell_type": "markdown",
      "source": [
        "now i will write new vaiable"
      ],
      "metadata": {
        "id": "fXPjCku6P3Q1"
      }
    },
    {
      "cell_type": "code",
      "source": [
        "num2 = 27"
      ],
      "metadata": {
        "id": "BCuswTmIO6fr"
      },
      "execution_count": 9,
      "outputs": []
    },
    {
      "cell_type": "code",
      "source": [
        "num3 = 9"
      ],
      "metadata": {
        "id": "waSnKe6eO70T"
      },
      "execution_count": 10,
      "outputs": []
    },
    {
      "cell_type": "code",
      "source": [
        "maximum = find_maximum(num1, num2, num3)"
      ],
      "metadata": {
        "id": "_OPZ8OI9O9Nj"
      },
      "execution_count": 11,
      "outputs": []
    },
    {
      "cell_type": "code",
      "source": [
        "print(f\"The Maximum of {num1}, {num2}, {num3} is : {maximum}\")"
      ],
      "metadata": {
        "colab": {
          "base_uri": "https://localhost:8080/"
        },
        "id": "LvhO-JxkPCG7",
        "outputId": "f638b9b2-b424-480b-a90a-441241b3ff56"
      },
      "execution_count": 12,
      "outputs": [
        {
          "output_type": "stream",
          "name": "stdout",
          "text": [
            "The Maximum of 15, 27, 9 is : 27\n"
          ]
        }
      ]
    },
    {
      "cell_type": "code",
      "source": [],
      "metadata": {
        "id": "RJNX5VxFP8t4"
      },
      "execution_count": null,
      "outputs": []
    }
  ]
}